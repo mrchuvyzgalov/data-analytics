{
 "cells": [
  {
   "cell_type": "code",
   "execution_count": 1,
   "id": "43021a74",
   "metadata": {},
   "outputs": [],
   "source": [
    "from sklearn.model_selection import train_test_split\n",
    "from sklearn.preprocessing import StandardScaler\n",
    "from scipy.stats import boxcox\n",
    "from sklearn import preprocessing\n",
    "from sklearn import linear_model\n",
    "from sklearn.tree import DecisionTreeRegressor  \n",
    "\n",
    "import pandas as pd\n",
    "import numpy as np\n",
    "import sklearn.metrics as metrics"
   ]
  },
  {
   "cell_type": "code",
   "execution_count": 2,
   "id": "82e9e02c",
   "metadata": {},
   "outputs": [],
   "source": [
    "# reading our dataframe\n",
    "\n",
    "dataset = pd.read_csv('data.csv')"
   ]
  },
  {
   "cell_type": "code",
   "execution_count": 3,
   "id": "0bec2efb",
   "metadata": {},
   "outputs": [
    {
     "name": "stdout",
     "output_type": "stream",
     "text": [
      "Size of train data: 936\n",
      "Size of test data: 402\n"
     ]
    }
   ],
   "source": [
    "# splitting data in training and test data\n",
    "\n",
    "X, y = dataset.drop(columns=['charges']), dataset['charges']\n",
    "X_train, X_test, y_train, y_test = train_test_split(X, y, test_size=0.3)\n",
    "\n",
    "print(f'Size of train data: {len(X_train)}')\n",
    "print(f'Size of test data: {len(X_test)}')"
   ]
  },
  {
   "cell_type": "code",
   "execution_count": 4,
   "id": "8337976e",
   "metadata": {},
   "outputs": [],
   "source": [
    "# transform data using dummies\n",
    "\n",
    "X_train = pd.get_dummies(X_train, columns=['sex', 'smoker', 'region'])\n",
    "X_test = pd.get_dummies(X_test, columns=['sex', 'smoker', 'region'])"
   ]
  },
  {
   "cell_type": "code",
   "execution_count": 5,
   "id": "55821d6d",
   "metadata": {},
   "outputs": [],
   "source": [
    "# Check for zero and near-zero variance variables [TRAIN]\n",
    "threshold = 0.01 \n",
    "variances = X_train.var()\n",
    "low_variance = []\n",
    "\n",
    "for var, value in variances.items():\n",
    "    if value <= threshold:\n",
    "        low_variance.append(var)\n",
    "        \n",
    "X_train = X_train.drop(low_variance, axis=1)"
   ]
  },
  {
   "cell_type": "code",
   "execution_count": 6,
   "id": "94291718",
   "metadata": {},
   "outputs": [],
   "source": [
    "# Check for zero and near-zero variance variables [TEST]\n",
    "threshold = 0.01 \n",
    "variances = X_test.var()\n",
    "low_variance = []\n",
    "\n",
    "for var, value in variances.items():\n",
    "    if value <= threshold:\n",
    "        low_variance.append(var)\n",
    "        \n",
    "X_test = X_test.drop(low_variance, axis=1)"
   ]
  },
  {
   "cell_type": "code",
   "execution_count": 7,
   "id": "a2521478",
   "metadata": {},
   "outputs": [],
   "source": [
    "# Check for highly correlated variables [TRAIN]\n",
    "\n",
    "# Create correlation matrix\n",
    "corr_matrix = X_train.corr().abs()\n",
    "\n",
    "# Select upper triangle of correlation matrix\n",
    "upper = corr_matrix.where(np.triu(np.ones(corr_matrix.shape), k=1).astype(np.bool_))\n",
    "\n",
    "# Find index of feature columns with correlation greater than a set threshold\n",
    "# This threshold is a subjective value depending on the use case\n",
    "to_drop = [column for column in upper.columns if any(upper[column] > 0.95)]\n",
    "\n",
    "# Drop highly correlated features \n",
    "X_train = X_train.drop(X_train[to_drop], axis=1)"
   ]
  },
  {
   "cell_type": "code",
   "execution_count": 8,
   "id": "1af0cd80",
   "metadata": {},
   "outputs": [],
   "source": [
    "# Check for highly correlated variables [TEST]\n",
    "\n",
    "# Create correlation matrix\n",
    "corr_matrix = X_test.corr().abs()\n",
    "\n",
    "# Select upper triangle of correlation matrix\n",
    "upper = corr_matrix.where(np.triu(np.ones(corr_matrix.shape), k=1).astype(np.bool_))\n",
    "\n",
    "# Find index of feature columns with correlation greater than a set threshold\n",
    "# This threshold is a subjective value depending on the use case\n",
    "to_drop = [column for column in upper.columns if any(upper[column] > 0.95)]\n",
    "\n",
    "# Drop highly correlated features \n",
    "X_test = X_test.drop(X_test[to_drop], axis=1)"
   ]
  },
  {
   "cell_type": "code",
   "execution_count": 9,
   "id": "4ac61335",
   "metadata": {},
   "outputs": [
    {
     "name": "stdout",
     "output_type": "stream",
     "text": [
      "No linear combinations detected\n"
     ]
    }
   ],
   "source": [
    "# Check for linear combinations [TRAIN]\n",
    "\n",
    "x_train_numeric = X_train.select_dtypes(include=[np.number]) \n",
    "\n",
    "# Get column rank\n",
    "x_train_rank = np.linalg.matrix_rank(x_train_numeric.values)\n",
    "\n",
    "# Compare rank to number of columns \n",
    "if x_train_rank == x_train_numeric.shape[1]:\n",
    "    print(\"No linear combinations detected\")\n",
    "else:\n",
    "    print(\"Linear combinations detected\")"
   ]
  },
  {
   "cell_type": "code",
   "execution_count": 10,
   "id": "e427bfc3",
   "metadata": {},
   "outputs": [
    {
     "name": "stdout",
     "output_type": "stream",
     "text": [
      "No linear combinations detected\n"
     ]
    }
   ],
   "source": [
    "# Check for linear combinations [TEST]\n",
    "\n",
    "x_test_numeric = X_test.select_dtypes(include=[np.number]) \n",
    "\n",
    "# Get column rank\n",
    "x_test_rank = np.linalg.matrix_rank(x_test_numeric.values)\n",
    "\n",
    "# Compare rank to number of columns \n",
    "if x_test_rank == x_test_numeric.shape[1]:\n",
    "    print(\"No linear combinations detected\")\n",
    "else:\n",
    "    print(\"Linear combinations detected\")"
   ]
  },
  {
   "cell_type": "code",
   "execution_count": 11,
   "id": "a13f3363",
   "metadata": {},
   "outputs": [],
   "source": [
    "# Centering -> Scaling -> Box-Cox transformation [TRAIN]\n",
    "\n",
    "# Centering and Scaling\n",
    "scaler = StandardScaler()\n",
    "scaler.fit(X_train)\n",
    "\n",
    "train_data = scaler.transform(X_train)\n",
    "X_train = pd.DataFrame(train_data, columns = X_train.columns)\n",
    "\n",
    "# Box-Cox Transformation\n",
    "numeric_features = X_train.select_dtypes(include=[np.number]).columns\n",
    "\n",
    "for feature in numeric_features:\n",
    "    X_train[feature] = preprocessing.MinMaxScaler().fit_transform(pd.DataFrame(X_train[feature])) + 1\n",
    "\n",
    "# Applying Box-Cox Transformation\n",
    "for feature in numeric_features:\n",
    "    X_train[feature], _ = boxcox(X_train[feature])"
   ]
  },
  {
   "cell_type": "code",
   "execution_count": 12,
   "id": "e8db73b6",
   "metadata": {},
   "outputs": [],
   "source": [
    "# Centering -> Scaling -> Box-Cox transformation [TEST]\n",
    "\n",
    "# Centering and Scaling\n",
    "scaler = StandardScaler()\n",
    "scaler.fit(X_test)\n",
    "\n",
    "test_data = scaler.transform(X_test)\n",
    "X_test = pd.DataFrame(test_data, columns = X_test.columns)\n",
    "\n",
    "# Box-Cox Transformation\n",
    "numeric_features = X_test.select_dtypes(include=[np.number]).columns\n",
    "\n",
    "for feature in numeric_features:\n",
    "    X_test[feature] = preprocessing.MinMaxScaler().fit_transform(pd.DataFrame(X_test[feature])) + 1\n",
    "\n",
    "# Applying Box-Cox Transformation\n",
    "for feature in numeric_features:\n",
    "    X_test[feature], _ = boxcox(X_test[feature])"
   ]
  },
  {
   "cell_type": "code",
   "execution_count": 13,
   "id": "22698621",
   "metadata": {},
   "outputs": [
    {
     "name": "stdout",
     "output_type": "stream",
     "text": [
      "<class 'pandas.core.frame.DataFrame'>\n",
      "RangeIndex: 936 entries, 0 to 935\n",
      "Data columns (total 9 columns):\n",
      " #   Column            Non-Null Count  Dtype  \n",
      "---  ------            --------------  -----  \n",
      " 0   age               936 non-null    float64\n",
      " 1   bmi               936 non-null    float64\n",
      " 2   children          936 non-null    float64\n",
      " 3   sex_female        936 non-null    float64\n",
      " 4   smoker_no         936 non-null    float64\n",
      " 5   region_northeast  936 non-null    float64\n",
      " 6   region_northwest  936 non-null    float64\n",
      " 7   region_southeast  936 non-null    float64\n",
      " 8   region_southwest  936 non-null    float64\n",
      "dtypes: float64(9)\n",
      "memory usage: 65.9 KB\n"
     ]
    }
   ],
   "source": [
    "X_train = X_train.to_numpy()\n",
    "X_test = X_test.to_numpy()"
   ]
  },
  {
   "cell_type": "code",
   "execution_count": 14,
   "id": "740987af",
   "metadata": {},
   "outputs": [
    {
     "name": "stdout",
     "output_type": "stream",
     "text": [
      "Linear regression model MSE: 600032299.8115\n"
     ]
    }
   ],
   "source": [
    "# Linear regression model fitting\n",
    "\n",
    "lr_model = linear_model.LinearRegression()\n",
    "lr_model.fit(X_train, y_train)\n",
    "    \n",
    "lr_model_pred = lr_model.predict(X_test)\n",
    "mse=metrics.mean_squared_error(y_test, lr_model_pred) \n",
    "    \n",
    "print(f'Linear regression model MSE: {round(mse,4)}')"
   ]
  },
  {
   "cell_type": "code",
   "execution_count": 15,
   "id": "fe50be0d",
   "metadata": {},
   "outputs": [
    {
     "name": "stdout",
     "output_type": "stream",
     "text": [
      "Regression tree model MSE: 50980698.0048\n"
     ]
    }
   ],
   "source": [
    "# Regression tree model fitting\n",
    "\n",
    "rt_model = DecisionTreeRegressor()\n",
    "rt_model.fit(X_train, y_train)\n",
    "    \n",
    "rt_model_pred = rt_model.predict(X_test)\n",
    "mse=metrics.mean_squared_error(y_test, rt_model_pred) \n",
    "    \n",
    "print(f'Regression tree model MSE: {round(mse,4)}')"
   ]
  },
  {
   "cell_type": "code",
   "execution_count": null,
   "id": "5f039ae2",
   "metadata": {},
   "outputs": [],
   "source": []
  },
  {
   "cell_type": "code",
   "execution_count": null,
   "id": "7f21e234",
   "metadata": {},
   "outputs": [],
   "source": []
  }
 ],
 "metadata": {
  "kernelspec": {
   "display_name": "Python 3 (ipykernel)",
   "language": "python",
   "name": "python3"
  },
  "language_info": {
   "codemirror_mode": {
    "name": "ipython",
    "version": 3
   },
   "file_extension": ".py",
   "mimetype": "text/x-python",
   "name": "python",
   "nbconvert_exporter": "python",
   "pygments_lexer": "ipython3",
   "version": "3.11.4"
  }
 },
 "nbformat": 4,
 "nbformat_minor": 5
}
