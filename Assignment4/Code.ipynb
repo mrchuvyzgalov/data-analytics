{
 "cells": [
  {
   "cell_type": "code",
   "execution_count": 1,
   "id": "96341f92",
   "metadata": {},
   "outputs": [],
   "source": [
    "from sklearn.model_selection import train_test_split\n",
    "from sklearn.tree import DecisionTreeRegressor  \n",
    "from sklearn.ensemble import RandomForestRegressor\n",
    "from sklearn.ensemble import GradientBoostingRegressor\n",
    "\n",
    "import pandas as pd\n",
    "import numpy as np\n",
    "import sklearn.metrics as metrics"
   ]
  },
  {
   "cell_type": "code",
   "execution_count": 2,
   "id": "3c0d2d72",
   "metadata": {},
   "outputs": [
    {
     "name": "stdout",
     "output_type": "stream",
     "text": [
      "<class 'pandas.core.frame.DataFrame'>\n",
      "RangeIndex: 20640 entries, 0 to 20639\n",
      "Data columns (total 10 columns):\n",
      " #   Column              Non-Null Count  Dtype  \n",
      "---  ------              --------------  -----  \n",
      " 0   longitude           20640 non-null  float64\n",
      " 1   latitude            20640 non-null  float64\n",
      " 2   housing_median_age  20640 non-null  float64\n",
      " 3   total_rooms         20640 non-null  float64\n",
      " 4   total_bedrooms      20433 non-null  float64\n",
      " 5   population          20640 non-null  float64\n",
      " 6   households          20640 non-null  float64\n",
      " 7   median_income       20640 non-null  float64\n",
      " 8   median_house_value  20640 non-null  float64\n",
      " 9   ocean_proximity     20640 non-null  object \n",
      "dtypes: float64(9), object(1)\n",
      "memory usage: 1.6+ MB\n"
     ]
    }
   ],
   "source": [
    "# reading our dataframe\n",
    "\n",
    "dataset = pd.read_csv('data.csv')\n",
    "dataset.info()"
   ]
  },
  {
   "cell_type": "code",
   "execution_count": 3,
   "id": "e1e8f244",
   "metadata": {},
   "outputs": [],
   "source": [
    "dataset = pd.get_dummies(dataset, columns=['ocean_proximity'])"
   ]
  },
  {
   "cell_type": "code",
   "execution_count": 4,
   "id": "523de996",
   "metadata": {},
   "outputs": [
    {
     "name": "stdout",
     "output_type": "stream",
     "text": [
      "longitude                       0\n",
      "latitude                        0\n",
      "housing_median_age              0\n",
      "total_rooms                     0\n",
      "total_bedrooms                207\n",
      "population                      0\n",
      "households                      0\n",
      "median_income                   0\n",
      "median_house_value              0\n",
      "ocean_proximity_<1H OCEAN       0\n",
      "ocean_proximity_INLAND          0\n",
      "ocean_proximity_ISLAND          0\n",
      "ocean_proximity_NEAR BAY        0\n",
      "ocean_proximity_NEAR OCEAN      0\n",
      "dtype: int64\n",
      "<class 'pandas.core.frame.DataFrame'>\n",
      "RangeIndex: 20640 entries, 0 to 20639\n",
      "Data columns (total 14 columns):\n",
      " #   Column                      Non-Null Count  Dtype  \n",
      "---  ------                      --------------  -----  \n",
      " 0   longitude                   20640 non-null  float64\n",
      " 1   latitude                    20640 non-null  float64\n",
      " 2   housing_median_age          20640 non-null  float64\n",
      " 3   total_rooms                 20640 non-null  float64\n",
      " 4   total_bedrooms              20640 non-null  float64\n",
      " 5   population                  20640 non-null  float64\n",
      " 6   households                  20640 non-null  float64\n",
      " 7   median_income               20640 non-null  float64\n",
      " 8   median_house_value          20640 non-null  float64\n",
      " 9   ocean_proximity_<1H OCEAN   20640 non-null  uint8  \n",
      " 10  ocean_proximity_INLAND      20640 non-null  uint8  \n",
      " 11  ocean_proximity_ISLAND      20640 non-null  uint8  \n",
      " 12  ocean_proximity_NEAR BAY    20640 non-null  uint8  \n",
      " 13  ocean_proximity_NEAR OCEAN  20640 non-null  uint8  \n",
      "dtypes: float64(9), uint8(5)\n",
      "memory usage: 1.5 MB\n"
     ]
    }
   ],
   "source": [
    "# Check for missing values in the DataFrame\n",
    "print(dataset.isnull().sum())\n",
    "\n",
    "# Fill missing values with median value of each column\n",
    "dataset.fillna(dataset.median(), inplace=True)\n",
    "dataset.info()"
   ]
  },
  {
   "cell_type": "code",
   "execution_count": 5,
   "id": "66787247",
   "metadata": {},
   "outputs": [
    {
     "name": "stdout",
     "output_type": "stream",
     "text": [
      "Size of train data: 16512\n",
      "Size of test data: 4128\n"
     ]
    }
   ],
   "source": [
    "# splitting data in training and test data\n",
    "\n",
    "X, y = dataset.drop(columns=['median_house_value']), dataset['median_house_value']\n",
    "X_train, X_test, y_train, y_test = train_test_split(X, y, test_size=0.2)\n",
    "\n",
    "print(f'Size of train data: {len(X_train)}')\n",
    "print(f'Size of test data: {len(X_test)}')"
   ]
  },
  {
   "cell_type": "code",
   "execution_count": 6,
   "id": "467c44f5",
   "metadata": {},
   "outputs": [
    {
     "name": "stdout",
     "output_type": "stream",
     "text": [
      "Regression tree model MSE: 4893504484.4922\n"
     ]
    }
   ],
   "source": [
    "# Regression tree model fitting\n",
    "\n",
    "rt_model = DecisionTreeRegressor()\n",
    "rt_model.fit(X_train, y_train)\n",
    "    \n",
    "rt_model_pred = rt_model.predict(X_test)\n",
    "mse=metrics.mean_squared_error(y_test, rt_model_pred) \n",
    "    \n",
    "print(f'Regression tree model MSE: {round(mse,4)}')"
   ]
  },
  {
   "cell_type": "code",
   "execution_count": 7,
   "id": "43a279a4",
   "metadata": {},
   "outputs": [
    {
     "name": "stdout",
     "output_type": "stream",
     "text": [
      "Random forest model MSE: 2376308913.6321\n"
     ]
    }
   ],
   "source": [
    "rf = RandomForestRegressor(n_estimators=500, random_state=42)\n",
    "rf.fit(X_train, y_train)\n",
    "\n",
    "rf_pred = rf.predict(X_test)\n",
    "mse=metrics.mean_squared_error(y_test, rf_pred) \n",
    "    \n",
    "print(f'Random forest model MSE: {round(mse,4)}')"
   ]
  },
  {
   "cell_type": "code",
   "execution_count": 8,
   "id": "634317ff",
   "metadata": {},
   "outputs": [
    {
     "name": "stdout",
     "output_type": "stream",
     "text": [
      "Random forest model MSE: 2483654205.1762\n"
     ]
    }
   ],
   "source": [
    "rf = RandomForestRegressor(n_estimators=30, random_state=42)\n",
    "rf.fit(X_train, y_train)\n",
    "\n",
    "rf_pred = rf.predict(X_test)\n",
    "mse=metrics.mean_squared_error(y_test, rf_pred) \n",
    "    \n",
    "print(f'Random forest model MSE: {round(mse,4)}')"
   ]
  },
  {
   "cell_type": "code",
   "execution_count": 9,
   "id": "5fdec881",
   "metadata": {},
   "outputs": [
    {
     "name": "stdout",
     "output_type": "stream",
     "text": [
      "GBM MSE: 2113046929.636\n"
     ]
    }
   ],
   "source": [
    "gbm = GradientBoostingRegressor(n_estimators=5000, max_depth=4, random_state=42)\n",
    "gbm.fit(X_train, y_train)\n",
    "\n",
    "gbm_pred = gbm.predict(X_test)\n",
    "mse=metrics.mean_squared_error(y_test, gbm_pred) \n",
    "    \n",
    "print(f'GBM MSE: {round(mse,4)}')"
   ]
  },
  {
   "cell_type": "code",
   "execution_count": null,
   "id": "3065572f",
   "metadata": {},
   "outputs": [],
   "source": []
  }
 ],
 "metadata": {
  "kernelspec": {
   "display_name": "Python 3 (ipykernel)",
   "language": "python",
   "name": "python3"
  },
  "language_info": {
   "codemirror_mode": {
    "name": "ipython",
    "version": 3
   },
   "file_extension": ".py",
   "mimetype": "text/x-python",
   "name": "python",
   "nbconvert_exporter": "python",
   "pygments_lexer": "ipython3",
   "version": "3.11.4"
  }
 },
 "nbformat": 4,
 "nbformat_minor": 5
}
